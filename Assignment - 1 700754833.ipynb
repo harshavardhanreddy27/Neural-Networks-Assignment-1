{
  "nbformat": 4,
  "nbformat_minor": 0,
  "metadata": {
    "colab": {
      "provenance": []
    },
    "kernelspec": {
      "name": "python3",
      "display_name": "Python 3"
    },
    "language_info": {
      "name": "python"
    }
  },
  "cells": [
    {
      "cell_type": "markdown",
      "source": [
        "# QUESTION 1, TAKING INPUT AND IF THE STRING IS GREATER THAN 2 ALPHABETS THEN DELETING THE 2 CHARACTERS AND PRINTING THE REVERSE OF IT\n"
      ],
      "metadata": {
        "id": "_8ml5wHkqmBy"
      }
    },
    {
      "cell_type": "code",
      "execution_count": 38,
      "metadata": {
        "id": "z1ohbzeqkKXW",
        "colab": {
          "base_uri": "https://localhost:8080/"
        },
        "outputId": "c8c9a880-1894-4e39-f167-f3d321e6f136"
      },
      "outputs": [
        {
          "name": "stdout",
          "output_type": "stream",
          "text": [
            "harsha\n"
          ]
        }
      ],
      "source": [
        "str=list(input())"
      ]
    },
    {
      "cell_type": "code",
      "source": [
        "if len(str)>2:\n",
        "  del str[:2]\n",
        "  rev_str=str[::-1]\n",
        "  print(rev_str)"
      ],
      "metadata": {
        "id": "qTk5tcB_kOzS",
        "colab": {
          "base_uri": "https://localhost:8080/"
        },
        "outputId": "3396e8ae-3e8f-4c46-dc12-e17637231c1e"
      },
      "execution_count": 39,
      "outputs": [
        {
          "output_type": "stream",
          "name": "stdout",
          "text": [
            "['a', 'h', 's', 'r']\n"
          ]
        }
      ]
    },
    {
      "cell_type": "code",
      "source": [
        "final_str = ''.join(rev_str)\n",
        "print(final_str)"
      ],
      "metadata": {
        "colab": {
          "base_uri": "https://localhost:8080/"
        },
        "id": "a14RyPt-qD2U",
        "outputId": "ff41799e-661c-4af3-f0cc-b6cb92632b32"
      },
      "execution_count": 40,
      "outputs": [
        {
          "output_type": "stream",
          "name": "stdout",
          "text": [
            "ahsr\n"
          ]
        }
      ]
    },
    {
      "cell_type": "markdown",
      "source": [
        "# QUESTION-1B, ARITHEMATIC OPERATIONS"
      ],
      "metadata": {
        "id": "CstyF2YhrNhj"
      }
    },
    {
      "cell_type": "code",
      "source": [
        "a=int(input())\n",
        "b=int(input())"
      ],
      "metadata": {
        "colab": {
          "base_uri": "https://localhost:8080/"
        },
        "id": "LmeHoowxrNrR",
        "outputId": "9cd09403-0de4-4200-b150-88ad469f322f"
      },
      "execution_count": 44,
      "outputs": [
        {
          "name": "stdout",
          "output_type": "stream",
          "text": [
            "5\n",
            "10\n"
          ]
        }
      ]
    },
    {
      "cell_type": "code",
      "source": [
        "print(\"sum of two no is\", a+b)\n",
        "print(\"subtraction of two no is\", a-b)\n",
        "print(\"multiplication of two no is\", a*b)\n",
        "print(\"division of two no is\", a/b)"
      ],
      "metadata": {
        "colab": {
          "base_uri": "https://localhost:8080/"
        },
        "id": "-vHFGXDPrU_e",
        "outputId": "2da90b4f-9933-4a1a-aa46-bfeeb7279e78"
      },
      "execution_count": 47,
      "outputs": [
        {
          "output_type": "stream",
          "name": "stdout",
          "text": [
            "sum of two no is 15\n",
            "subtraction of two no is -5\n",
            "multiplication of two no is 50\n",
            "division of two no is 0.5\n"
          ]
        }
      ]
    },
    {
      "cell_type": "markdown",
      "source": [
        "# QUESTION 2\n"
      ],
      "metadata": {
        "id": "4KlqZHsustgZ"
      }
    },
    {
      "cell_type": "code",
      "source": [
        "sentence = input(\"Enter a sentence: \")\n",
        "\n",
        "mod_sen = sentence.replace('python', 'pythons')\n",
        "\n",
        "print(\"Updated:\", mod_sen)"
      ],
      "metadata": {
        "colab": {
          "base_uri": "https://localhost:8080/"
        },
        "id": "cqkFJqTtszao",
        "outputId": "8d119a40-97f7-4edc-8910-0815f8127479"
      },
      "execution_count": 48,
      "outputs": [
        {
          "output_type": "stream",
          "name": "stdout",
          "text": [
            "Enter a sentence: i love python\n",
            "Updated: i love pythons\n"
          ]
        }
      ]
    },
    {
      "cell_type": "markdown",
      "source": [
        "# Question 3\n"
      ],
      "metadata": {
        "id": "ozZ-aEbVtMKH"
      }
    },
    {
      "cell_type": "code",
      "source": [
        "grade= int(input())\n",
        "if grade>=90:\n",
        "  print('A')\n",
        "elif  grade >= 80 and grade < 90:\n",
        "  print('B')\n",
        "elif  grade >= 70 and grade < 80:\n",
        "  print('C')\n",
        "elif  grade >= 60 and grade < 70:\n",
        "  print('D')\n",
        "else:\n",
        "  print('FAIL')"
      ],
      "metadata": {
        "colab": {
          "base_uri": "https://localhost:8080/"
        },
        "id": "nlCxoeIGtGtk",
        "outputId": "8f1344d5-b3ca-417e-c343-14028319aa28"
      },
      "execution_count": 56,
      "outputs": [
        {
          "output_type": "stream",
          "name": "stdout",
          "text": [
            "34\n",
            "FAIL\n"
          ]
        }
      ]
    },
    {
      "cell_type": "markdown",
      "source": [],
      "metadata": {
        "id": "WQzRNtNstKHL"
      }
    }
  ]
}