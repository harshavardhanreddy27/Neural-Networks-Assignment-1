{
  "nbformat": 4,
  "nbformat_minor": 0,
  "metadata": {
    "colab": {
      "provenance": []
    },
    "kernelspec": {
      "name": "python3",
      "display_name": "Python 3"
    },
    "language_info": {
      "name": "python"
    }
  },
  "cells": [
    {
      "cell_type": "markdown",
      "source": [
        "# QUESTION 1, TAKING INPUT AND IF THE STRING IS GREATER THAN 2 ALPHABETS THEN DELETING THE 2 CHARACTERS AND PRINTING THE REVERSE OF IT\n"
      ],
      "metadata": {
        "id": "_8ml5wHkqmBy"
      }
    },
    {
      "cell_type": "code",
      "execution_count": 2,
      "metadata": {
        "id": "z1ohbzeqkKXW",
        "colab": {
          "base_uri": "https://localhost:8080/"
        },
        "outputId": "28c83173-6d65-49ca-fd4e-5c4eb8bb1f2d"
      },
      "outputs": [
        {
          "name": "stdout",
          "output_type": "stream",
          "text": [
            "Yashwwanth\n"
          ]
        }
      ],
      "source": [
        "str=list(input())"
      ]
    },
    {
      "cell_type": "code",
      "source": [
        "if len(str)>2:\n",
        "  del str[:2]\n",
        "  rev_str=str[::-1]\n",
        "  print(rev_str)"
      ],
      "metadata": {
        "id": "qTk5tcB_kOzS",
        "colab": {
          "base_uri": "https://localhost:8080/"
        },
        "outputId": "8a0dda20-d77c-4831-80b5-bcd73d00f639"
      },
      "execution_count": 3,
      "outputs": [
        {
          "output_type": "stream",
          "name": "stdout",
          "text": [
            "['h', 't', 'n', 'a', 'w', 'w', 'h', 's']\n"
          ]
        }
      ]
    },
    {
      "cell_type": "code",
      "source": [
        "final_str = ''.join(rev_str)\n",
        "print(final_str)"
      ],
      "metadata": {
        "colab": {
          "base_uri": "https://localhost:8080/"
        },
        "id": "a14RyPt-qD2U",
        "outputId": "5a3d03c0-5755-455b-aaa2-7e1242fbae62"
      },
      "execution_count": 4,
      "outputs": [
        {
          "output_type": "stream",
          "name": "stdout",
          "text": [
            "htnawwhs\n"
          ]
        }
      ]
    },
    {
      "cell_type": "markdown",
      "source": [
        "# QUESTION-1B, ARITHEMATIC OPERATIONS"
      ],
      "metadata": {
        "id": "CstyF2YhrNhj"
      }
    },
    {
      "cell_type": "code",
      "source": [
        "a=int(input())\n",
        "b=int(input())"
      ],
      "metadata": {
        "colab": {
          "base_uri": "https://localhost:8080/"
        },
        "id": "LmeHoowxrNrR",
        "outputId": "8dd750b3-8572-46e0-e366-a1533ad9451d"
      },
      "execution_count": 7,
      "outputs": [
        {
          "name": "stdout",
          "output_type": "stream",
          "text": [
            "10\n",
            "9\n"
          ]
        }
      ]
    },
    {
      "cell_type": "code",
      "source": [
        "print(\"sum of two no is\", a+b)\n",
        "print(\"subtraction of two no is\", a-b)\n",
        "print(\"multiplication of two no is\", a*b)\n",
        "print(\"division of two no is\", a/b)"
      ],
      "metadata": {
        "colab": {
          "base_uri": "https://localhost:8080/"
        },
        "id": "-vHFGXDPrU_e",
        "outputId": "18138061-fa64-4bfb-f298-a054881ffc00"
      },
      "execution_count": 8,
      "outputs": [
        {
          "output_type": "stream",
          "name": "stdout",
          "text": [
            "sum of two no is 19\n",
            "subtraction of two no is 1\n",
            "multiplication of two no is 90\n",
            "division of two no is 1.1111111111111112\n"
          ]
        }
      ]
    },
    {
      "cell_type": "markdown",
      "source": [
        "# QUESTION 2 Replacing Python With Pythons in a Sentence"
      ],
      "metadata": {
        "id": "4KlqZHsustgZ"
      }
    },
    {
      "cell_type": "code",
      "source": [
        "sentence = input(\"Enter a sentence: \")\n",
        "\n",
        "mod_sen = sentence.replace('Python', 'pythons')\n",
        "\n",
        "print(\"Updated:\", mod_sen)"
      ],
      "metadata": {
        "colab": {
          "base_uri": "https://localhost:8080/"
        },
        "id": "cqkFJqTtszao",
        "outputId": "76bd352f-1d48-443d-9707-aac3ac1c19cf"
      },
      "execution_count": 11,
      "outputs": [
        {
          "output_type": "stream",
          "name": "stdout",
          "text": [
            "Enter a sentence: I Love Python\n",
            "Updated: I Love pythons\n"
          ]
        }
      ]
    },
    {
      "cell_type": "markdown",
      "source": [
        "# Question 3 Using if statement conditions letter grade based on an input class score"
      ],
      "metadata": {
        "id": "ozZ-aEbVtMKH"
      }
    },
    {
      "cell_type": "code",
      "source": [
        "grade= float(input())\n",
        "if grade>=90:\n",
        "  print('A')\n",
        "elif  grade >= 80 and grade < 90:\n",
        "  print('B')\n",
        "elif  grade >= 70 and grade < 80:\n",
        "  print('C')\n",
        "elif  grade >= 60 and grade < 70:\n",
        "  print('D')\n",
        "else:\n",
        "  print('FAIL')"
      ],
      "metadata": {
        "colab": {
          "base_uri": "https://localhost:8080/"
        },
        "id": "nlCxoeIGtGtk",
        "outputId": "ccb6fd87-d46c-4731-dea4-00b20398289e"
      },
      "execution_count": 6,
      "outputs": [
        {
          "output_type": "stream",
          "name": "stdout",
          "text": [
            "97.56\n",
            "A\n"
          ]
        }
      ]
    },
    {
      "cell_type": "markdown",
      "source": [],
      "metadata": {
        "id": "WQzRNtNstKHL"
      }
    }
  ]
}